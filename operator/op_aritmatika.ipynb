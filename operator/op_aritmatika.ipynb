{
 "cells": [
  {
   "cell_type": "markdown",
   "id": "c11fa474",
   "metadata": {},
   "source": [
    "# Materi: Operator dan Input\n",
    "Sub Materi:\n",
    "1. Operator aritmatika (+. -, *, %, ...)\n",
    "2. Operator perbandingan (==, !=, >, <, >=, <=).\n",
    "3. Operator assignment\n",
    "4. Operator logika (and, or, not).\n",
    "5. Input dari user: input().\n",
    "6. Konversi tipe data (int(), float(), str()).\n",
    "7. Latihan: Program kalkulator sederhana (penjumlahan & perkalian"
   ]
  },
  {
   "cell_type": "code",
   "execution_count": null,
   "id": "bf175b28",
   "metadata": {},
   "outputs": [
    {
     "name": "stdout",
     "output_type": "stream",
     "text": [
      "=== Operasi aritmatika menggunakan fungsi input===\n",
      "hasil penjuamlahan: 40.0\n",
      "hasil pengurangan: 0.0\n",
      "hasil perkalian: 400.0\n"
     ]
    }
   ],
   "source": [
    "print(\"=== Operasi aritmatika menggunakan fungsi input===\")\n",
    "# gunakan nilai_1 dan nilai_2 yang sudah didefinisikan sebagai float\n",
    "nilai_1 = float(input(\"input Nilai 1: \"))\n",
    "nilai_2 = float(input(\"Nilai_2: \"))\n",
    "\n",
    "print(f\"hasil penjuamlahan: {nilai_1 + nilai_2}\")\n",
    "print(f\"hasil pengurangan: {nilai_1 - nilai_2}\")\n",
    "print(f\"hasil perkalian: {nilai_1 * nilai_2}\")\n"
   ]
  },
  {
   "cell_type": "code",
   "execution_count": 15,
   "id": "be88e54c",
   "metadata": {},
   "outputs": [
    {
     "name": "stdout",
     "output_type": "stream",
     "text": [
      "=== Operasi aritmatika ===\n",
      "hasil penjumlahan: 55\n",
      "hasil pengurangan: 15\n",
      "hasil perkalian: 700\n",
      "hasil pembagian: 1.75\n"
     ]
    }
   ],
   "source": [
    "print(\"=== Operasi aritmatika ===\")\n",
    "# gunakan nilai_1 dan nilai_2 yang sudah didefinisikan sebagai float\n",
    "nilai_1 = 35\n",
    "nilai_2 = 20\n",
    "print(f\"hasil penjumlahan: {nilai_1 + nilai_2}\")\n",
    "print(f\"hasil pengurangan: {nilai_1 - nilai_2}\")\n",
    "print(f\"hasil perkalian: {nilai_1 * nilai_2}\")\n",
    "print(f\"hasil pembagian: {nilai_1 / nilai_2}\")"
   ]
  }
 ],
 "metadata": {
  "kernelspec": {
   "display_name": "Python 3",
   "language": "python",
   "name": "python3"
  },
  "language_info": {
   "codemirror_mode": {
    "name": "ipython",
    "version": 3
   },
   "file_extension": ".py",
   "mimetype": "text/x-python",
   "name": "python",
   "nbconvert_exporter": "python",
   "pygments_lexer": "ipython3",
   "version": "3.13.7"
  }
 },
 "nbformat": 4,
 "nbformat_minor": 5
}
