{
 "cells": [
  {
   "cell_type": "markdown",
   "id": "85666a48",
   "metadata": {},
   "source": [
    "# Operator logika\n",
    "Operator logika dipakai untuk menggabungkan ekspresi logika (True/False).\n",
    "Hasil akhirnya juga berupa True atau False.\n",
    "\n",
    "| Operator | Keterangan                 | Contoh                                | Hasil   |\n",
    "|----------|-----------------------------|---------------------------------------|---------|\n",
    "| `and`    | Logika AND (keduanya benar) | `(4 == 5) and (2 != 3)`               | `False` |\n",
    "| `or`     | Logika OR (salah satu benar)| `(4 == 5) or (2 != 3)`                | `True`  |\n",
    "| `not`    | Logika NOT (membalik nilai) | `not (2 == 3)`                        | `True`  |"
   ]
  },
  {
   "cell_type": "code",
   "execution_count": null,
   "id": "c858c8b6",
   "metadata": {},
   "outputs": [
    {
     "name": "stdout",
     "output_type": "stream",
     "text": [
      "Lulus\n"
     ]
    }
   ],
   "source": [
    "nilai = 75\n",
    "kehadiran = 80\n",
    "\n",
    "# control +/ untuk shorcut coment\n",
    "# pakai fungsi input\n",
    "nilai = float(input(\"Input Nilai: \"))\n",
    "kehadiran = float(input(\"Input Nilai Kehadiran: \"))\n",
    "\n",
    "# pakai if\n",
    "if nilai >= 80 or kehadiran >= 80:\n",
    "    print(\"Lulus\")\n",
    "else:\n",
    "    print(\"Tidak Lulus ya\")    "
   ]
  }
 ],
 "metadata": {
  "kernelspec": {
   "display_name": "Python 3",
   "language": "python",
   "name": "python3"
  },
  "language_info": {
   "codemirror_mode": {
    "name": "ipython",
    "version": 3
   },
   "file_extension": ".py",
   "mimetype": "text/x-python",
   "name": "python",
   "nbconvert_exporter": "python",
   "pygments_lexer": "ipython3",
   "version": "3.13.7"
  }
 },
 "nbformat": 4,
 "nbformat_minor": 5
}
